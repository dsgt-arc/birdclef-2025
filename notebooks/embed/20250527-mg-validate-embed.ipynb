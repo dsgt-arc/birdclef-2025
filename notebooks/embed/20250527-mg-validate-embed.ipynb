{
 "cells": [
  {
   "cell_type": "markdown",
   "id": "799edf9b",
   "metadata": {},
   "source": [
    "# Ebemdding pipeline\n",
    "Bioacoustics Model Zoo: https://github.com/kitzeslab/bioacoustics-model-zoo"
   ]
  },
  {
   "cell_type": "code",
   "execution_count": 1,
   "id": "d9cbad6f",
   "metadata": {},
   "outputs": [],
   "source": [
    "%load_ext autoreload\n",
    "%autoreload 2"
   ]
  },
  {
   "cell_type": "code",
   "execution_count": 2,
   "id": "ed661c61",
   "metadata": {},
   "outputs": [
    {
     "name": "stdout",
     "output_type": "stream",
     "text": [
      "DataFrame shape: (967390, 2)\n",
      "Embedding size: 512\n"
     ]
    },
    {
     "data": {
      "text/html": [
       "<div>\n",
       "<style scoped>\n",
       "    .dataframe tbody tr th:only-of-type {\n",
       "        vertical-align: middle;\n",
       "    }\n",
       "\n",
       "    .dataframe tbody tr th {\n",
       "        vertical-align: top;\n",
       "    }\n",
       "\n",
       "    .dataframe thead th {\n",
       "        text-align: right;\n",
       "    }\n",
       "</style>\n",
       "<table border=\"1\" class=\"dataframe\">\n",
       "  <thead>\n",
       "    <tr style=\"text-align: right;\">\n",
       "      <th></th>\n",
       "      <th>file</th>\n",
       "      <th>start_time</th>\n",
       "      <th>end_time</th>\n",
       "      <th>0</th>\n",
       "      <th>1</th>\n",
       "      <th>2</th>\n",
       "      <th>3</th>\n",
       "      <th>4</th>\n",
       "      <th>5</th>\n",
       "      <th>6</th>\n",
       "      <th>...</th>\n",
       "      <th>502</th>\n",
       "      <th>503</th>\n",
       "      <th>504</th>\n",
       "      <th>505</th>\n",
       "      <th>506</th>\n",
       "      <th>507</th>\n",
       "      <th>508</th>\n",
       "      <th>509</th>\n",
       "      <th>510</th>\n",
       "      <th>511</th>\n",
       "    </tr>\n",
       "  </thead>\n",
       "  <tbody>\n",
       "    <tr>\n",
       "      <th>0</th>\n",
       "      <td>/storage/coda1/p-dsgt_clef2025/0/shared/birdcl...</td>\n",
       "      <td>0.0</td>\n",
       "      <td>2.0</td>\n",
       "      <td>5.419207</td>\n",
       "      <td>0.871290</td>\n",
       "      <td>1.777295</td>\n",
       "      <td>0.004625</td>\n",
       "      <td>0.003101</td>\n",
       "      <td>0.051039</td>\n",
       "      <td>0.0</td>\n",
       "      <td>...</td>\n",
       "      <td>0.001239</td>\n",
       "      <td>2.434101</td>\n",
       "      <td>0.0</td>\n",
       "      <td>0.003629</td>\n",
       "      <td>0.163328</td>\n",
       "      <td>3.506454</td>\n",
       "      <td>0.103979</td>\n",
       "      <td>1.377844</td>\n",
       "      <td>1.749998</td>\n",
       "      <td>0.101520</td>\n",
       "    </tr>\n",
       "    <tr>\n",
       "      <th>1</th>\n",
       "      <td>/storage/coda1/p-dsgt_clef2025/0/shared/birdcl...</td>\n",
       "      <td>1.0</td>\n",
       "      <td>3.0</td>\n",
       "      <td>4.556544</td>\n",
       "      <td>0.077743</td>\n",
       "      <td>2.052582</td>\n",
       "      <td>0.000000</td>\n",
       "      <td>0.033188</td>\n",
       "      <td>0.340124</td>\n",
       "      <td>0.0</td>\n",
       "      <td>...</td>\n",
       "      <td>0.000000</td>\n",
       "      <td>1.869135</td>\n",
       "      <td>0.0</td>\n",
       "      <td>0.000000</td>\n",
       "      <td>0.069754</td>\n",
       "      <td>1.763988</td>\n",
       "      <td>0.010189</td>\n",
       "      <td>1.924023</td>\n",
       "      <td>0.221941</td>\n",
       "      <td>0.196073</td>\n",
       "    </tr>\n",
       "    <tr>\n",
       "      <th>2</th>\n",
       "      <td>/storage/coda1/p-dsgt_clef2025/0/shared/birdcl...</td>\n",
       "      <td>2.0</td>\n",
       "      <td>4.0</td>\n",
       "      <td>4.653011</td>\n",
       "      <td>0.055394</td>\n",
       "      <td>2.093789</td>\n",
       "      <td>0.004328</td>\n",
       "      <td>0.023840</td>\n",
       "      <td>0.378915</td>\n",
       "      <td>0.0</td>\n",
       "      <td>...</td>\n",
       "      <td>0.000000</td>\n",
       "      <td>2.020643</td>\n",
       "      <td>0.0</td>\n",
       "      <td>0.000000</td>\n",
       "      <td>0.065655</td>\n",
       "      <td>1.979608</td>\n",
       "      <td>0.010868</td>\n",
       "      <td>1.752458</td>\n",
       "      <td>0.371240</td>\n",
       "      <td>0.235253</td>\n",
       "    </tr>\n",
       "    <tr>\n",
       "      <th>3</th>\n",
       "      <td>/storage/coda1/p-dsgt_clef2025/0/shared/birdcl...</td>\n",
       "      <td>3.0</td>\n",
       "      <td>5.0</td>\n",
       "      <td>4.258378</td>\n",
       "      <td>0.000000</td>\n",
       "      <td>1.601861</td>\n",
       "      <td>0.001100</td>\n",
       "      <td>0.013942</td>\n",
       "      <td>0.359071</td>\n",
       "      <td>0.0</td>\n",
       "      <td>...</td>\n",
       "      <td>0.000000</td>\n",
       "      <td>2.089144</td>\n",
       "      <td>0.0</td>\n",
       "      <td>0.000000</td>\n",
       "      <td>0.039062</td>\n",
       "      <td>2.685790</td>\n",
       "      <td>0.015338</td>\n",
       "      <td>1.498782</td>\n",
       "      <td>0.157769</td>\n",
       "      <td>0.233748</td>\n",
       "    </tr>\n",
       "    <tr>\n",
       "      <th>4</th>\n",
       "      <td>/storage/coda1/p-dsgt_clef2025/0/shared/birdcl...</td>\n",
       "      <td>4.0</td>\n",
       "      <td>6.0</td>\n",
       "      <td>4.549884</td>\n",
       "      <td>0.001267</td>\n",
       "      <td>2.192139</td>\n",
       "      <td>0.002076</td>\n",
       "      <td>0.029677</td>\n",
       "      <td>0.409830</td>\n",
       "      <td>0.0</td>\n",
       "      <td>...</td>\n",
       "      <td>0.000000</td>\n",
       "      <td>2.028283</td>\n",
       "      <td>0.0</td>\n",
       "      <td>0.000000</td>\n",
       "      <td>0.048678</td>\n",
       "      <td>1.704479</td>\n",
       "      <td>0.018217</td>\n",
       "      <td>1.774186</td>\n",
       "      <td>0.158651</td>\n",
       "      <td>0.203963</td>\n",
       "    </tr>\n",
       "  </tbody>\n",
       "</table>\n",
       "<p>5 rows × 515 columns</p>\n",
       "</div>"
      ],
      "text/plain": [
       "                                                file  start_time  end_time  \\\n",
       "0  /storage/coda1/p-dsgt_clef2025/0/shared/birdcl...         0.0       2.0   \n",
       "1  /storage/coda1/p-dsgt_clef2025/0/shared/birdcl...         1.0       3.0   \n",
       "2  /storage/coda1/p-dsgt_clef2025/0/shared/birdcl...         2.0       4.0   \n",
       "3  /storage/coda1/p-dsgt_clef2025/0/shared/birdcl...         3.0       5.0   \n",
       "4  /storage/coda1/p-dsgt_clef2025/0/shared/birdcl...         4.0       6.0   \n",
       "\n",
       "          0         1         2         3         4         5    6  ...  \\\n",
       "0  5.419207  0.871290  1.777295  0.004625  0.003101  0.051039  0.0  ...   \n",
       "1  4.556544  0.077743  2.052582  0.000000  0.033188  0.340124  0.0  ...   \n",
       "2  4.653011  0.055394  2.093789  0.004328  0.023840  0.378915  0.0  ...   \n",
       "3  4.258378  0.000000  1.601861  0.001100  0.013942  0.359071  0.0  ...   \n",
       "4  4.549884  0.001267  2.192139  0.002076  0.029677  0.409830  0.0  ...   \n",
       "\n",
       "        502       503  504       505       506       507       508       509  \\\n",
       "0  0.001239  2.434101  0.0  0.003629  0.163328  3.506454  0.103979  1.377844   \n",
       "1  0.000000  1.869135  0.0  0.000000  0.069754  1.763988  0.010189  1.924023   \n",
       "2  0.000000  2.020643  0.0  0.000000  0.065655  1.979608  0.010868  1.752458   \n",
       "3  0.000000  2.089144  0.0  0.000000  0.039062  2.685790  0.015338  1.498782   \n",
       "4  0.000000  2.028283  0.0  0.000000  0.048678  1.704479  0.018217  1.774186   \n",
       "\n",
       "        510       511  \n",
       "0  1.749998  0.101520  \n",
       "1  0.221941  0.196073  \n",
       "2  0.371240  0.235253  \n",
       "3  0.157769  0.233748  \n",
       "4  0.158651  0.203963  \n",
       "\n",
       "[5 rows x 515 columns]"
      ]
     },
     "metadata": {},
     "output_type": "display_data"
    },
    {
     "data": {
      "text/html": [
       "<div>\n",
       "<style scoped>\n",
       "    .dataframe tbody tr th:only-of-type {\n",
       "        vertical-align: middle;\n",
       "    }\n",
       "\n",
       "    .dataframe tbody tr th {\n",
       "        vertical-align: top;\n",
       "    }\n",
       "\n",
       "    .dataframe thead th {\n",
       "        text-align: right;\n",
       "    }\n",
       "</style>\n",
       "<table border=\"1\" class=\"dataframe\">\n",
       "  <thead>\n",
       "    <tr style=\"text-align: right;\">\n",
       "      <th></th>\n",
       "      <th>species_name</th>\n",
       "      <th>embeddings</th>\n",
       "    </tr>\n",
       "  </thead>\n",
       "  <tbody>\n",
       "    <tr>\n",
       "      <th>0</th>\n",
       "      <td>1139490</td>\n",
       "      <td>[5.4192066, 0.87128985, 1.7772945, 0.004624543...</td>\n",
       "    </tr>\n",
       "    <tr>\n",
       "      <th>1</th>\n",
       "      <td>1139490</td>\n",
       "      <td>[4.556544, 0.07774321, 2.0525815, 0.0, 0.03318...</td>\n",
       "    </tr>\n",
       "    <tr>\n",
       "      <th>2</th>\n",
       "      <td>1139490</td>\n",
       "      <td>[4.653011, 0.05539445, 2.0937886, 0.0043283175...</td>\n",
       "    </tr>\n",
       "    <tr>\n",
       "      <th>3</th>\n",
       "      <td>1139490</td>\n",
       "      <td>[4.258378, 0.0, 1.601861, 0.0010996396, 0.0139...</td>\n",
       "    </tr>\n",
       "    <tr>\n",
       "      <th>4</th>\n",
       "      <td>1139490</td>\n",
       "      <td>[4.5498843, 0.0012667002, 2.1921391, 0.0020756...</td>\n",
       "    </tr>\n",
       "  </tbody>\n",
       "</table>\n",
       "</div>"
      ],
      "text/plain": [
       "  species_name                                         embeddings\n",
       "0      1139490  [5.4192066, 0.87128985, 1.7772945, 0.004624543...\n",
       "1      1139490  [4.556544, 0.07774321, 2.0525815, 0.0, 0.03318...\n",
       "2      1139490  [4.653011, 0.05539445, 2.0937886, 0.0043283175...\n",
       "3      1139490  [4.258378, 0.0, 1.601861, 0.0010996396, 0.0139...\n",
       "4      1139490  [4.5498843, 0.0012667002, 2.1921391, 0.0020756..."
      ]
     },
     "metadata": {},
     "output_type": "display_data"
    }
   ],
   "source": [
    "import pandas as pd\n",
    "\n",
    "scratch_dir = \"~/scratch/birdclef/data/2025\"\n",
    "model_name = \"RanaSierraeCNN\"\n",
    "embed_dir = f\"{scratch_dir}/train_audio-infer-soundscape/{model_name}/parts/embed/\"\n",
    "\n",
    "\n",
    "def preprocess_data(input_path: str) -> pd.DataFrame:\n",
    "    df = pd.read_parquet(input_path)\n",
    "    # concatenate all embeddings into a single DataFrame\n",
    "    df[\"species_name\"] = df[\"file\"].apply(\n",
    "        lambda x: x.split(\"train_audio/\")[1].split(\"/\")[0]\n",
    "    )\n",
    "    # train/test split requries y label to have at least 2 samples\n",
    "    # remove species with less than 2 samples\n",
    "    species_count = df[\"species_name\"].value_counts()\n",
    "    valid_species = species_count[species_count >= 2].index\n",
    "    filtered_df = df[df[\"species_name\"].isin(valid_species)].reset_index(drop=True)\n",
    "    # concatenate embeddings\n",
    "    non_embed_cols = {\"file\", \"start_time\", \"end_time\", \"species_name\"}\n",
    "    embed_cols = [col for col in filtered_df.columns if col not in non_embed_cols]\n",
    "    filtered_df[\"embeddings\"] = list(filtered_df[embed_cols].to_numpy())\n",
    "    df_embs = filtered_df[[\"species_name\", \"embeddings\"]].copy()\n",
    "    print(f\"DataFrame shape: {df_embs.shape}\")\n",
    "    print(f\"Embedding size: {len(df_embs['embeddings'].iloc[0])}\")\n",
    "    return df_embs\n",
    "\n",
    "\n",
    "df = pd.read_parquet(embed_dir)\n",
    "embed_df = preprocess_data(embed_dir)\n",
    "display(df.head(5))\n",
    "display(embed_df.head(5))"
   ]
  },
  {
   "cell_type": "code",
   "execution_count": 3,
   "id": "9e5d3e82",
   "metadata": {},
   "outputs": [
    {
     "data": {
      "text/plain": [
       "206"
      ]
     },
     "metadata": {},
     "output_type": "display_data"
    },
    {
     "data": {
      "text/plain": [
       "['1139490', '1192948', '1194042', '126247', '1346504']"
      ]
     },
     "execution_count": 3,
     "metadata": {},
     "output_type": "execute_result"
    }
   ],
   "source": [
    "def get_species_names(file_path_list: list) -> list:\n",
    "    species_list = []\n",
    "    for file in file_path_list:\n",
    "        species_name = file.split(\"train_audio/\")[1].split(\"/\")[0]\n",
    "        species_list.append(species_name)\n",
    "\n",
    "    species_list = list(set(species_list))\n",
    "    species_list.sort()\n",
    "    return species_list\n",
    "\n",
    "\n",
    "species_list = get_species_names(df[\"file\"].iloc[:])\n",
    "display(len(species_list))\n",
    "species_list[:5]"
   ]
  },
  {
   "cell_type": "code",
   "execution_count": 4,
   "id": "2b5ce592",
   "metadata": {},
   "outputs": [
    {
     "data": {
      "text/html": [
       "<div>\n",
       "<style scoped>\n",
       "    .dataframe tbody tr th:only-of-type {\n",
       "        vertical-align: middle;\n",
       "    }\n",
       "\n",
       "    .dataframe tbody tr th {\n",
       "        vertical-align: top;\n",
       "    }\n",
       "\n",
       "    .dataframe thead th {\n",
       "        text-align: right;\n",
       "    }\n",
       "</style>\n",
       "<table border=\"1\" class=\"dataframe\">\n",
       "  <thead>\n",
       "    <tr style=\"text-align: right;\">\n",
       "      <th></th>\n",
       "      <th>species_name</th>\n",
       "      <th>count</th>\n",
       "    </tr>\n",
       "  </thead>\n",
       "  <tbody>\n",
       "    <tr>\n",
       "      <th>57</th>\n",
       "      <td>81930</td>\n",
       "      <td>42</td>\n",
       "    </tr>\n",
       "    <tr>\n",
       "      <th>52</th>\n",
       "      <td>67082</td>\n",
       "      <td>41</td>\n",
       "    </tr>\n",
       "    <tr>\n",
       "      <th>48</th>\n",
       "      <td>66016</td>\n",
       "      <td>24</td>\n",
       "    </tr>\n",
       "    <tr>\n",
       "      <th>35</th>\n",
       "      <td>548639</td>\n",
       "      <td>22</td>\n",
       "    </tr>\n",
       "    <tr>\n",
       "      <th>24</th>\n",
       "      <td>42113</td>\n",
       "      <td>20</td>\n",
       "    </tr>\n",
       "    <tr>\n",
       "      <th>32</th>\n",
       "      <td>523060</td>\n",
       "      <td>19</td>\n",
       "    </tr>\n",
       "    <tr>\n",
       "      <th>23</th>\n",
       "      <td>42087</td>\n",
       "      <td>18</td>\n",
       "    </tr>\n",
       "    <tr>\n",
       "      <th>58</th>\n",
       "      <td>868458</td>\n",
       "      <td>17</td>\n",
       "    </tr>\n",
       "    <tr>\n",
       "      <th>11</th>\n",
       "      <td>21116</td>\n",
       "      <td>10</td>\n",
       "    </tr>\n",
       "    <tr>\n",
       "      <th>9</th>\n",
       "      <td>1564122</td>\n",
       "      <td>3</td>\n",
       "    </tr>\n",
       "  </tbody>\n",
       "</table>\n",
       "</div>"
      ],
      "text/plain": [
       "   species_name  count\n",
       "57        81930     42\n",
       "52        67082     41\n",
       "48        66016     24\n",
       "35       548639     22\n",
       "24        42113     20\n",
       "32       523060     19\n",
       "23        42087     18\n",
       "58       868458     17\n",
       "11        21116     10\n",
       "9       1564122      3"
      ]
     },
     "execution_count": 4,
     "metadata": {},
     "output_type": "execute_result"
    }
   ],
   "source": [
    "# create species_name column\n",
    "embed_df = df.copy()\n",
    "embed_df[\"species_name\"] = df[\"file\"].apply(\n",
    "    lambda x: x.split(\"train_audio/\")[1].split(\"/\")[0]\n",
    ")\n",
    "# group by species_name and count the number of files\n",
    "species_count = embed_df.groupby(\"species_name\").size().reset_index(name=\"count\")\n",
    "species_count.sort_values(by=\"count\", ascending=False, inplace=True)\n",
    "species_count.tail(10)"
   ]
  },
  {
   "cell_type": "code",
   "execution_count": 5,
   "id": "48b01338",
   "metadata": {},
   "outputs": [
    {
     "data": {
      "text/plain": [
       "((967390, 516), (967390, 515))"
      ]
     },
     "execution_count": 5,
     "metadata": {},
     "output_type": "execute_result"
    }
   ],
   "source": [
    "# train/test split requries y label to have at least 2 samples\n",
    "# remove species from ebed_df with less than 2 samples\n",
    "species_count = embed_df[\"species_name\"].value_counts()\n",
    "valid_species = species_count[species_count >= 2].index\n",
    "embed_df = embed_df[embed_df[\"species_name\"].isin(valid_species)].reset_index(drop=True)\n",
    "embed_df.shape, df.shape"
   ]
  },
  {
   "cell_type": "code",
   "execution_count": 6,
   "id": "2780ada2",
   "metadata": {},
   "outputs": [
    {
     "name": "stdout",
     "output_type": "stream",
     "text": [
      "recording_location.txt\ttaxonomy.csv\t  train.csv    train_soundscapes\n",
      "sample_submission.csv\ttest_soundscapes  train_audio\n",
      "1139490\n",
      "1192948\n",
      "1194042\n",
      "126247\n",
      "1346504\n",
      "134933\n",
      "135045\n",
      "1462711\n",
      "1462737\n",
      "1564122\n"
     ]
    },
    {
     "data": {
      "text/plain": [
       "28564"
      ]
     },
     "metadata": {},
     "output_type": "display_data"
    }
   ],
   "source": [
    "from pathlib import Path\n",
    "\n",
    "raw_root = Path(\"~/p-dsgt_clef2025-0/shared/birdclef/raw/birdclef-2025\").expanduser()\n",
    "! ls {raw_root}\n",
    "soundscape_root = raw_root / \"train_audio\"\n",
    "! ls {soundscape_root} | head\n",
    "soundscapes = sorted(soundscape_root.glob(\"**/*.ogg\"))\n",
    "display(len(soundscapes))"
   ]
  },
  {
   "cell_type": "code",
   "execution_count": 7,
   "id": "8df93938",
   "metadata": {},
   "outputs": [
    {
     "data": {
      "text/plain": [
       "206"
      ]
     },
     "metadata": {},
     "output_type": "display_data"
    },
    {
     "data": {
      "text/plain": [
       "['1139490', '1192948', '1194042', '126247', '1346504']"
      ]
     },
     "execution_count": 7,
     "metadata": {},
     "output_type": "execute_result"
    }
   ],
   "source": [
    "soundscapes = [str(sp) for sp in soundscapes]\n",
    "soundscape_list = get_species_names(soundscapes)\n",
    "display(len(soundscape_list))\n",
    "soundscape_list[:5]"
   ]
  },
  {
   "cell_type": "code",
   "execution_count": 8,
   "id": "84cd8a78",
   "metadata": {},
   "outputs": [],
   "source": [
    "for name in soundscape_list:\n",
    "    if name not in species_list:\n",
    "        print(name)"
   ]
  },
  {
   "cell_type": "code",
   "execution_count": null,
   "id": "6825172e",
   "metadata": {},
   "outputs": [],
   "source": []
  }
 ],
 "metadata": {
  "kernelspec": {
   "display_name": ".venv",
   "language": "python",
   "name": "python3"
  },
  "language_info": {
   "codemirror_mode": {
    "name": "ipython",
    "version": 3
   },
   "file_extension": ".py",
   "mimetype": "text/x-python",
   "name": "python",
   "nbconvert_exporter": "python",
   "pygments_lexer": "ipython3",
   "version": "3.10.10"
  }
 },
 "nbformat": 4,
 "nbformat_minor": 5
}
