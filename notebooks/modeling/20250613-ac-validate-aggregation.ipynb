{
 "cells": [
  {
   "cell_type": "code",
   "execution_count": 1,
   "id": "d9cbad6f",
   "metadata": {},
   "outputs": [],
   "source": [
    "%load_ext autoreload\n",
    "%autoreload 2"
   ]
  },
  {
   "cell_type": "code",
   "execution_count": 7,
   "id": "ed661c61",
   "metadata": {},
   "outputs": [
    {
     "data": {
      "text/html": [
       "<div><style>\n",
       ".dataframe > thead > tr,\n",
       ".dataframe > tbody > tr {\n",
       "  text-align: right;\n",
       "  white-space: pre-wrap;\n",
       "}\n",
       "</style>\n",
       "<small>shape: (5, 336)</small><table border=\"1\" class=\"dataframe\"><thead><tr><th>file</th><th>start_time</th><th>end_time</th><th>0</th><th>1</th><th>2</th><th>3</th><th>4</th><th>5</th><th>6</th><th>7</th><th>8</th><th>9</th><th>10</th><th>11</th><th>12</th><th>13</th><th>14</th><th>15</th><th>16</th><th>17</th><th>18</th><th>19</th><th>20</th><th>21</th><th>22</th><th>23</th><th>24</th><th>25</th><th>26</th><th>27</th><th>28</th><th>29</th><th>30</th><th>31</th><th>32</th><th>33</th><th>&hellip;</th><th>296</th><th>297</th><th>298</th><th>299</th><th>300</th><th>301</th><th>302</th><th>303</th><th>304</th><th>305</th><th>306</th><th>307</th><th>308</th><th>309</th><th>310</th><th>311</th><th>312</th><th>313</th><th>314</th><th>315</th><th>316</th><th>317</th><th>318</th><th>319</th><th>320</th><th>321</th><th>322</th><th>323</th><th>324</th><th>325</th><th>326</th><th>327</th><th>328</th><th>329</th><th>330</th><th>331</th><th>332</th></tr><tr><td>str</td><td>f64</td><td>f64</td><td>f32</td><td>f32</td><td>f32</td><td>f32</td><td>f32</td><td>f32</td><td>f32</td><td>f32</td><td>f32</td><td>f32</td><td>f32</td><td>f32</td><td>f32</td><td>f32</td><td>f32</td><td>f32</td><td>f32</td><td>f32</td><td>f32</td><td>f32</td><td>f32</td><td>f32</td><td>f32</td><td>f32</td><td>f32</td><td>f32</td><td>f32</td><td>f32</td><td>f32</td><td>f32</td><td>f32</td><td>f32</td><td>f32</td><td>f32</td><td>&hellip;</td><td>f32</td><td>f32</td><td>f32</td><td>f32</td><td>f32</td><td>f32</td><td>f32</td><td>f32</td><td>f32</td><td>f32</td><td>f32</td><td>f32</td><td>f32</td><td>f32</td><td>f32</td><td>f32</td><td>f32</td><td>f32</td><td>f32</td><td>f32</td><td>f32</td><td>f32</td><td>f32</td><td>f32</td><td>f32</td><td>f32</td><td>f32</td><td>f32</td><td>f32</td><td>f32</td><td>f32</td><td>f32</td><td>f32</td><td>f32</td><td>f32</td><td>f32</td><td>f32</td></tr></thead><tbody><tr><td>&quot;/storage/coda1/p-dsgt_clef2025…</td><td>0.0</td><td>3.0</td><td>-7.761022</td><td>-7.859722</td><td>-7.573352</td><td>-7.529884</td><td>-7.586942</td><td>-7.765625</td><td>-7.839075</td><td>-7.497603</td><td>-7.842506</td><td>-6.4641</td><td>1.409694</td><td>-6.263638</td><td>-7.774168</td><td>-7.895298</td><td>-7.672746</td><td>-7.496108</td><td>-6.980765</td><td>-7.437164</td><td>-7.925606</td><td>-7.506673</td><td>-6.807176</td><td>-7.151875</td><td>-6.986343</td><td>-7.65841</td><td>-7.463279</td><td>-7.101843</td><td>-7.234128</td><td>-7.647466</td><td>-7.62769</td><td>-7.339504</td><td>-6.873795</td><td>-7.328893</td><td>-7.416889</td><td>-7.275779</td><td>&hellip;</td><td>-7.190296</td><td>-7.263952</td><td>-7.442381</td><td>-7.252857</td><td>-7.194276</td><td>-7.736011</td><td>-7.215974</td><td>-7.236132</td><td>-7.190691</td><td>-7.104614</td><td>-7.472517</td><td>-7.124534</td><td>-7.071735</td><td>-7.592028</td><td>-7.676602</td><td>-6.796793</td><td>-7.233603</td><td>-7.851872</td><td>-7.027931</td><td>-7.540087</td><td>-8.03293</td><td>-7.537486</td><td>-7.665033</td><td>-7.609951</td><td>-6.962598</td><td>-7.650553</td><td>-6.076544</td><td>-7.010783</td><td>-7.721039</td><td>-7.040418</td><td>-7.868875</td><td>-7.71681</td><td>-7.920033</td><td>-7.267624</td><td>-7.179723</td><td>-6.602951</td><td>-7.604536</td></tr><tr><td>&quot;/storage/coda1/p-dsgt_clef2025…</td><td>3.0</td><td>6.0</td><td>-7.537612</td><td>-7.264558</td><td>-7.226346</td><td>-7.019586</td><td>-7.022892</td><td>-7.413132</td><td>-7.383269</td><td>-7.078055</td><td>-7.527159</td><td>-5.69753</td><td>0.044339</td><td>-6.479727</td><td>-7.284528</td><td>-7.661668</td><td>-7.507573</td><td>-6.633432</td><td>-6.686202</td><td>-6.817227</td><td>-7.458408</td><td>-6.719686</td><td>-5.820983</td><td>-6.393943</td><td>-6.405126</td><td>-7.046081</td><td>-6.876997</td><td>-5.886294</td><td>-6.950992</td><td>-7.171242</td><td>-7.269441</td><td>-6.546358</td><td>-5.148434</td><td>-6.667562</td><td>-6.858869</td><td>-6.438889</td><td>&hellip;</td><td>-5.949087</td><td>-6.773084</td><td>-7.243724</td><td>-6.088067</td><td>-6.42945</td><td>-6.930327</td><td>-6.627992</td><td>-6.393039</td><td>-6.139482</td><td>-6.578962</td><td>-6.083927</td><td>-5.959038</td><td>-6.718995</td><td>-6.700479</td><td>-7.231723</td><td>-6.109712</td><td>-6.799433</td><td>-7.127625</td><td>-6.190516</td><td>-6.682657</td><td>-7.241679</td><td>-7.084991</td><td>-6.820042</td><td>-7.317496</td><td>-6.660654</td><td>-7.085735</td><td>-5.235501</td><td>-6.351207</td><td>-7.223718</td><td>-6.255972</td><td>-7.084538</td><td>-7.111881</td><td>-6.912401</td><td>-7.009014</td><td>-6.660067</td><td>-5.208686</td><td>-7.073904</td></tr><tr><td>&quot;/storage/coda1/p-dsgt_clef2025…</td><td>6.0</td><td>9.0</td><td>-7.761611</td><td>-7.585001</td><td>-7.223029</td><td>-7.487719</td><td>-7.369743</td><td>-7.579735</td><td>-7.76218</td><td>-7.351177</td><td>-7.796617</td><td>-5.627254</td><td>0.481096</td><td>-7.040338</td><td>-7.704047</td><td>-7.836038</td><td>-7.5208</td><td>-6.842945</td><td>-6.750009</td><td>-7.135789</td><td>-7.66859</td><td>-7.024274</td><td>-6.956383</td><td>-6.702949</td><td>-6.628063</td><td>-7.37605</td><td>-7.345567</td><td>-6.613468</td><td>-6.779289</td><td>-7.081776</td><td>-7.128587</td><td>-6.389132</td><td>-6.583379</td><td>-7.119483</td><td>-6.593985</td><td>-7.156366</td><td>&hellip;</td><td>-6.934795</td><td>-6.594121</td><td>-7.234235</td><td>-6.593054</td><td>-6.756184</td><td>-7.287511</td><td>-6.944139</td><td>-6.655662</td><td>-7.170455</td><td>-6.598353</td><td>-7.004805</td><td>-7.180813</td><td>-6.30759</td><td>-7.224069</td><td>-7.326456</td><td>-5.65559</td><td>-6.894659</td><td>-7.539337</td><td>-6.79607</td><td>-7.306047</td><td>-7.601799</td><td>-7.459457</td><td>-6.994983</td><td>-7.208221</td><td>-6.393008</td><td>-7.265979</td><td>-5.965707</td><td>-7.16583</td><td>-7.064601</td><td>-6.401568</td><td>-7.32094</td><td>-7.186135</td><td>-7.365509</td><td>-7.261105</td><td>-6.488623</td><td>-6.53574</td><td>-6.828948</td></tr><tr><td>&quot;/storage/coda1/p-dsgt_clef2025…</td><td>9.0</td><td>12.0</td><td>-7.604532</td><td>-7.761453</td><td>-7.56917</td><td>-7.432415</td><td>-7.614823</td><td>-7.603981</td><td>-7.810421</td><td>-7.470413</td><td>-7.901688</td><td>-6.026678</td><td>0.868365</td><td>-6.307676</td><td>-7.723984</td><td>-7.863541</td><td>-7.547923</td><td>-7.120016</td><td>-7.318012</td><td>-7.156262</td><td>-7.740577</td><td>-7.201833</td><td>-6.246293</td><td>-6.898671</td><td>-6.585896</td><td>-7.492715</td><td>-7.431175</td><td>-6.727684</td><td>-7.134872</td><td>-7.24028</td><td>-7.401326</td><td>-6.87007</td><td>-6.517808</td><td>-7.04935</td><td>-7.032978</td><td>-7.343034</td><td>&hellip;</td><td>-7.082949</td><td>-6.943261</td><td>-7.083114</td><td>-6.969219</td><td>-6.926785</td><td>-7.718911</td><td>-6.724651</td><td>-6.818843</td><td>-6.918126</td><td>-5.984807</td><td>-7.231002</td><td>-6.969384</td><td>-6.596596</td><td>-7.121896</td><td>-7.460166</td><td>-6.036256</td><td>-7.104061</td><td>-7.457027</td><td>-6.863512</td><td>-7.269561</td><td>-7.847645</td><td>-7.508442</td><td>-7.467495</td><td>-7.412669</td><td>-6.47379</td><td>-7.523064</td><td>-6.239888</td><td>-7.210198</td><td>-7.40841</td><td>-6.57924</td><td>-7.792824</td><td>-7.497213</td><td>-7.527929</td><td>-6.842381</td><td>-6.790981</td><td>-6.49957</td><td>-7.255531</td></tr><tr><td>&quot;/storage/coda1/p-dsgt_clef2025…</td><td>12.0</td><td>15.0</td><td>-7.649658</td><td>-7.447433</td><td>-7.269304</td><td>-7.36956</td><td>-7.164818</td><td>-7.564202</td><td>-7.622379</td><td>-7.3478</td><td>-7.66615</td><td>-5.618638</td><td>0.174366</td><td>-6.653475</td><td>-7.58131</td><td>-7.663144</td><td>-7.540162</td><td>-6.660457</td><td>-6.436866</td><td>-7.269027</td><td>-7.639483</td><td>-6.85991</td><td>-6.436367</td><td>-6.641861</td><td>-6.352708</td><td>-7.147205</td><td>-7.213489</td><td>-6.488689</td><td>-6.554688</td><td>-6.877677</td><td>-6.841893</td><td>-6.219963</td><td>-6.120775</td><td>-6.845033</td><td>-6.240162</td><td>-6.976068</td><td>&hellip;</td><td>-6.809804</td><td>-6.701024</td><td>-7.171342</td><td>-6.476059</td><td>-6.246764</td><td>-7.445886</td><td>-6.460861</td><td>-6.254556</td><td>-6.810571</td><td>-6.680804</td><td>-6.66192</td><td>-6.878354</td><td>-5.878217</td><td>-6.891959</td><td>-7.30844</td><td>-4.851899</td><td>-6.644001</td><td>-7.212193</td><td>-6.633319</td><td>-7.070963</td><td>-7.580128</td><td>-7.310025</td><td>-7.076505</td><td>-6.921836</td><td>-6.16636</td><td>-7.259169</td><td>-5.862641</td><td>-7.092748</td><td>-6.627277</td><td>-6.222234</td><td>-7.082645</td><td>-7.15701</td><td>-7.215042</td><td>-7.030806</td><td>-6.095271</td><td>-6.339221</td><td>-6.800184</td></tr></tbody></table></div>"
      ],
      "text/plain": [
       "shape: (5, 336)\n",
       "┌───────────┬───────────┬──────────┬───────────┬───┬───────────┬───────────┬───────────┬───────────┐\n",
       "│ file      ┆ start_tim ┆ end_time ┆ 0         ┆ … ┆ 329       ┆ 330       ┆ 331       ┆ 332       │\n",
       "│ ---       ┆ e         ┆ ---      ┆ ---       ┆   ┆ ---       ┆ ---       ┆ ---       ┆ ---       │\n",
       "│ str       ┆ ---       ┆ f64      ┆ f32       ┆   ┆ f32       ┆ f32       ┆ f32       ┆ f32       │\n",
       "│           ┆ f64       ┆          ┆           ┆   ┆           ┆           ┆           ┆           │\n",
       "╞═══════════╪═══════════╪══════════╪═══════════╪═══╪═══════════╪═══════════╪═══════════╪═══════════╡\n",
       "│ /storage/ ┆ 0.0       ┆ 3.0      ┆ -7.761022 ┆ … ┆ -7.267624 ┆ -7.179723 ┆ -6.602951 ┆ -7.604536 │\n",
       "│ coda1/p-d ┆           ┆          ┆           ┆   ┆           ┆           ┆           ┆           │\n",
       "│ sgt_clef2 ┆           ┆          ┆           ┆   ┆           ┆           ┆           ┆           │\n",
       "│ 025…      ┆           ┆          ┆           ┆   ┆           ┆           ┆           ┆           │\n",
       "│ /storage/ ┆ 3.0       ┆ 6.0      ┆ -7.537612 ┆ … ┆ -7.009014 ┆ -6.660067 ┆ -5.208686 ┆ -7.073904 │\n",
       "│ coda1/p-d ┆           ┆          ┆           ┆   ┆           ┆           ┆           ┆           │\n",
       "│ sgt_clef2 ┆           ┆          ┆           ┆   ┆           ┆           ┆           ┆           │\n",
       "│ 025…      ┆           ┆          ┆           ┆   ┆           ┆           ┆           ┆           │\n",
       "│ /storage/ ┆ 6.0       ┆ 9.0      ┆ -7.761611 ┆ … ┆ -7.261105 ┆ -6.488623 ┆ -6.53574  ┆ -6.828948 │\n",
       "│ coda1/p-d ┆           ┆          ┆           ┆   ┆           ┆           ┆           ┆           │\n",
       "│ sgt_clef2 ┆           ┆          ┆           ┆   ┆           ┆           ┆           ┆           │\n",
       "│ 025…      ┆           ┆          ┆           ┆   ┆           ┆           ┆           ┆           │\n",
       "│ /storage/ ┆ 9.0       ┆ 12.0     ┆ -7.604532 ┆ … ┆ -6.842381 ┆ -6.790981 ┆ -6.49957  ┆ -7.255531 │\n",
       "│ coda1/p-d ┆           ┆          ┆           ┆   ┆           ┆           ┆           ┆           │\n",
       "│ sgt_clef2 ┆           ┆          ┆           ┆   ┆           ┆           ┆           ┆           │\n",
       "│ 025…      ┆           ┆          ┆           ┆   ┆           ┆           ┆           ┆           │\n",
       "│ /storage/ ┆ 12.0      ┆ 15.0     ┆ -7.649658 ┆ … ┆ -7.030806 ┆ -6.095271 ┆ -6.339221 ┆ -6.800184 │\n",
       "│ coda1/p-d ┆           ┆          ┆           ┆   ┆           ┆           ┆           ┆           │\n",
       "│ sgt_clef2 ┆           ┆          ┆           ┆   ┆           ┆           ┆           ┆           │\n",
       "│ 025…      ┆           ┆          ┆           ┆   ┆           ┆           ┆           ┆           │\n",
       "└───────────┴───────────┴──────────┴───────────┴───┴───────────┴───────────┴───────────┴───────────┘"
      ]
     },
     "metadata": {},
     "output_type": "display_data"
    },
    {
     "data": {
      "text/plain": [
       "(194520, 336)"
      ]
     },
     "metadata": {},
     "output_type": "display_data"
    },
    {
     "data": {
      "text/html": [
       "<div><style>\n",
       ".dataframe > thead > tr,\n",
       ".dataframe > tbody > tr {\n",
       "  text-align: right;\n",
       "  white-space: pre-wrap;\n",
       "}\n",
       "</style>\n",
       "<small>shape: (5, 335)</small><table border=\"1\" class=\"dataframe\"><thead><tr><th>file</th><th>interval</th><th>0</th><th>1</th><th>2</th><th>3</th><th>4</th><th>5</th><th>6</th><th>7</th><th>8</th><th>9</th><th>10</th><th>11</th><th>12</th><th>13</th><th>14</th><th>15</th><th>16</th><th>17</th><th>18</th><th>19</th><th>20</th><th>21</th><th>22</th><th>23</th><th>24</th><th>25</th><th>26</th><th>27</th><th>28</th><th>29</th><th>30</th><th>31</th><th>32</th><th>33</th><th>34</th><th>&hellip;</th><th>296</th><th>297</th><th>298</th><th>299</th><th>300</th><th>301</th><th>302</th><th>303</th><th>304</th><th>305</th><th>306</th><th>307</th><th>308</th><th>309</th><th>310</th><th>311</th><th>312</th><th>313</th><th>314</th><th>315</th><th>316</th><th>317</th><th>318</th><th>319</th><th>320</th><th>321</th><th>322</th><th>323</th><th>324</th><th>325</th><th>326</th><th>327</th><th>328</th><th>329</th><th>330</th><th>331</th><th>332</th></tr><tr><td>str</td><td>i64</td><td>f32</td><td>f32</td><td>f32</td><td>f32</td><td>f32</td><td>f32</td><td>f32</td><td>f32</td><td>f32</td><td>f32</td><td>f32</td><td>f32</td><td>f32</td><td>f32</td><td>f32</td><td>f32</td><td>f32</td><td>f32</td><td>f32</td><td>f32</td><td>f32</td><td>f32</td><td>f32</td><td>f32</td><td>f32</td><td>f32</td><td>f32</td><td>f32</td><td>f32</td><td>f32</td><td>f32</td><td>f32</td><td>f32</td><td>f32</td><td>f32</td><td>&hellip;</td><td>f32</td><td>f32</td><td>f32</td><td>f32</td><td>f32</td><td>f32</td><td>f32</td><td>f32</td><td>f32</td><td>f32</td><td>f32</td><td>f32</td><td>f32</td><td>f32</td><td>f32</td><td>f32</td><td>f32</td><td>f32</td><td>f32</td><td>f32</td><td>f32</td><td>f32</td><td>f32</td><td>f32</td><td>f32</td><td>f32</td><td>f32</td><td>f32</td><td>f32</td><td>f32</td><td>f32</td><td>f32</td><td>f32</td><td>f32</td><td>f32</td><td>f32</td><td>f32</td></tr></thead><tbody><tr><td>&quot;/storage/coda1/p-dsgt_clef2025…</td><td>0</td><td>-7.649317</td><td>-7.56214</td><td>-7.399849</td><td>-7.274735</td><td>-7.304917</td><td>-7.589378</td><td>-7.611172</td><td>-7.287829</td><td>-7.684833</td><td>-6.080815</td><td>0.727016</td><td>-6.371683</td><td>-7.529347</td><td>-7.778483</td><td>-7.590159</td><td>-7.06477</td><td>-6.833483</td><td>-7.127196</td><td>-7.692007</td><td>-7.113179</td><td>-6.31408</td><td>-6.772909</td><td>-6.695735</td><td>-7.352245</td><td>-7.170138</td><td>-6.494069</td><td>-7.09256</td><td>-7.409354</td><td>-7.448565</td><td>-6.942931</td><td>-6.011114</td><td>-6.998227</td><td>-7.137878</td><td>-6.857334</td><td>-7.189019</td><td>&hellip;</td><td>-6.569692</td><td>-7.018517</td><td>-7.343053</td><td>-6.670462</td><td>-6.811863</td><td>-7.333169</td><td>-6.921983</td><td>-6.814586</td><td>-6.665087</td><td>-6.841788</td><td>-6.778222</td><td>-6.541786</td><td>-6.895365</td><td>-7.146254</td><td>-7.454163</td><td>-6.453252</td><td>-7.016518</td><td>-7.489748</td><td>-6.609223</td><td>-7.111372</td><td>-7.637304</td><td>-7.311238</td><td>-7.242537</td><td>-7.463723</td><td>-6.811626</td><td>-7.368144</td><td>-5.656023</td><td>-6.680995</td><td>-7.472379</td><td>-6.648195</td><td>-7.476707</td><td>-7.414345</td><td>-7.416217</td><td>-7.138319</td><td>-6.919895</td><td>-5.905818</td><td>-7.33922</td></tr><tr><td>&quot;/storage/coda1/p-dsgt_clef2025…</td><td>1</td><td>-7.761611</td><td>-7.585001</td><td>-7.223029</td><td>-7.487719</td><td>-7.369743</td><td>-7.579735</td><td>-7.76218</td><td>-7.351177</td><td>-7.796617</td><td>-5.627254</td><td>0.481096</td><td>-7.040338</td><td>-7.704047</td><td>-7.836038</td><td>-7.5208</td><td>-6.842945</td><td>-6.750009</td><td>-7.135789</td><td>-7.66859</td><td>-7.024274</td><td>-6.956383</td><td>-6.702949</td><td>-6.628063</td><td>-7.37605</td><td>-7.345567</td><td>-6.613468</td><td>-6.779289</td><td>-7.081776</td><td>-7.128587</td><td>-6.389132</td><td>-6.583379</td><td>-7.119483</td><td>-6.593985</td><td>-7.156366</td><td>-7.150192</td><td>&hellip;</td><td>-6.934795</td><td>-6.594121</td><td>-7.234235</td><td>-6.593054</td><td>-6.756184</td><td>-7.287511</td><td>-6.944139</td><td>-6.655662</td><td>-7.170455</td><td>-6.598353</td><td>-7.004805</td><td>-7.180813</td><td>-6.30759</td><td>-7.224069</td><td>-7.326456</td><td>-5.65559</td><td>-6.894659</td><td>-7.539337</td><td>-6.79607</td><td>-7.306047</td><td>-7.601799</td><td>-7.459457</td><td>-6.994983</td><td>-7.208221</td><td>-6.393008</td><td>-7.265979</td><td>-5.965707</td><td>-7.16583</td><td>-7.064601</td><td>-6.401568</td><td>-7.32094</td><td>-7.186135</td><td>-7.365509</td><td>-7.261105</td><td>-6.488623</td><td>-6.53574</td><td>-6.828948</td></tr><tr><td>&quot;/storage/coda1/p-dsgt_clef2025…</td><td>2</td><td>-7.627095</td><td>-7.604443</td><td>-7.419237</td><td>-7.400987</td><td>-7.389821</td><td>-7.584092</td><td>-7.7164</td><td>-7.409106</td><td>-7.783919</td><td>-5.822658</td><td>0.521366</td><td>-6.480576</td><td>-7.652647</td><td>-7.763342</td><td>-7.544043</td><td>-6.890236</td><td>-6.877439</td><td>-7.212645</td><td>-7.69003</td><td>-7.030871</td><td>-6.34133</td><td>-6.770266</td><td>-6.469302</td><td>-7.31996</td><td>-7.322332</td><td>-6.608186</td><td>-6.84478</td><td>-7.058979</td><td>-7.12161</td><td>-6.545016</td><td>-6.319291</td><td>-6.947192</td><td>-6.63657</td><td>-7.159551</td><td>-6.971237</td><td>&hellip;</td><td>-6.946377</td><td>-6.822143</td><td>-7.127228</td><td>-6.722639</td><td>-6.586775</td><td>-7.582398</td><td>-6.592756</td><td>-6.536699</td><td>-6.864348</td><td>-6.332806</td><td>-6.946461</td><td>-6.923869</td><td>-6.237406</td><td>-7.006927</td><td>-7.384303</td><td>-5.444077</td><td>-6.874031</td><td>-7.33461</td><td>-6.748415</td><td>-7.170262</td><td>-7.713886</td><td>-7.409234</td><td>-7.272</td><td>-7.167253</td><td>-6.320075</td><td>-7.391116</td><td>-6.051265</td><td>-7.151473</td><td>-7.017843</td><td>-6.400737</td><td>-7.437735</td><td>-7.327111</td><td>-7.371485</td><td>-6.936593</td><td>-6.443126</td><td>-6.419396</td><td>-7.027858</td></tr><tr><td>&quot;/storage/coda1/p-dsgt_clef2025…</td><td>3</td><td>-7.540323</td><td>-7.558751</td><td>-7.427615</td><td>-7.439414</td><td>-7.346786</td><td>-7.406157</td><td>-7.626995</td><td>-7.36558</td><td>-7.655058</td><td>-6.071743</td><td>0.780487</td><td>-6.446821</td><td>-7.609566</td><td>-7.820153</td><td>-7.567741</td><td>-7.103449</td><td>-6.847992</td><td>-7.061126</td><td>-7.734917</td><td>-7.047099</td><td>-6.828774</td><td>-7.009977</td><td>-6.546431</td><td>-7.371161</td><td>-7.248341</td><td>-6.637606</td><td>-6.888715</td><td>-7.082824</td><td>-7.159857</td><td>-6.831783</td><td>-6.470901</td><td>-6.94355</td><td>-6.847691</td><td>-7.009637</td><td>-7.243478</td><td>&hellip;</td><td>-6.829126</td><td>-6.651661</td><td>-7.259744</td><td>-6.72707</td><td>-7.003752</td><td>-7.042018</td><td>-6.797548</td><td>-6.509051</td><td>-6.872947</td><td>-6.282105</td><td>-6.839886</td><td>-6.746977</td><td>-6.311211</td><td>-7.038924</td><td>-7.480843</td><td>-5.427598</td><td>-7.095393</td><td>-7.452366</td><td>-6.614033</td><td>-7.283733</td><td>-7.547803</td><td>-7.391881</td><td>-7.326673</td><td>-7.528651</td><td>-6.550044</td><td>-7.34348</td><td>-5.659191</td><td>-7.00332</td><td>-7.326903</td><td>-6.618115</td><td>-7.580413</td><td>-7.235764</td><td>-7.288733</td><td>-7.167755</td><td>-6.686892</td><td>-6.257753</td><td>-7.162601</td></tr><tr><td>&quot;/storage/coda1/p-dsgt_clef2025…</td><td>4</td><td>-7.614707</td><td>-7.572232</td><td>-7.480475</td><td>-7.391633</td><td>-7.357118</td><td>-7.649642</td><td>-7.602112</td><td>-7.293384</td><td>-7.694135</td><td>-6.019189</td><td>0.159912</td><td>-6.462261</td><td>-7.561394</td><td>-7.795728</td><td>-7.495364</td><td>-7.050143</td><td>-6.622639</td><td>-7.275856</td><td>-7.618523</td><td>-6.884711</td><td>-6.65879</td><td>-6.889005</td><td>-6.68658</td><td>-7.168239</td><td>-7.039924</td><td>-6.900397</td><td>-6.858398</td><td>-7.1217</td><td>-7.148816</td><td>-6.35539</td><td>-6.468781</td><td>-6.879578</td><td>-6.460829</td><td>-7.093799</td><td>-6.986389</td><td>&hellip;</td><td>-7.003655</td><td>-6.800972</td><td>-7.070085</td><td>-6.69453</td><td>-6.787057</td><td>-7.467886</td><td>-6.972599</td><td>-6.698518</td><td>-7.068822</td><td>-6.711632</td><td>-6.82453</td><td>-6.786854</td><td>-6.652618</td><td>-6.953252</td><td>-7.321201</td><td>-5.685995</td><td>-6.751054</td><td>-7.400289</td><td>-6.755427</td><td>-7.314359</td><td>-7.652129</td><td>-7.485135</td><td>-7.074569</td><td>-7.005565</td><td>-6.42002</td><td>-7.467414</td><td>-6.092766</td><td>-6.921536</td><td>-6.815183</td><td>-6.390313</td><td>-7.536204</td><td>-7.15905</td><td>-7.256824</td><td>-7.24971</td><td>-6.392805</td><td>-6.567549</td><td>-6.875815</td></tr></tbody></table></div>"
      ],
      "text/plain": [
       "shape: (5, 335)\n",
       "┌───────────┬──────────┬───────────┬───────────┬───┬───────────┬───────────┬───────────┬───────────┐\n",
       "│ file      ┆ interval ┆ 0         ┆ 1         ┆ … ┆ 329       ┆ 330       ┆ 331       ┆ 332       │\n",
       "│ ---       ┆ ---      ┆ ---       ┆ ---       ┆   ┆ ---       ┆ ---       ┆ ---       ┆ ---       │\n",
       "│ str       ┆ i64      ┆ f32       ┆ f32       ┆   ┆ f32       ┆ f32       ┆ f32       ┆ f32       │\n",
       "╞═══════════╪══════════╪═══════════╪═══════════╪═══╪═══════════╪═══════════╪═══════════╪═══════════╡\n",
       "│ /storage/ ┆ 0        ┆ -7.649317 ┆ -7.56214  ┆ … ┆ -7.138319 ┆ -6.919895 ┆ -5.905818 ┆ -7.33922  │\n",
       "│ coda1/p-d ┆          ┆           ┆           ┆   ┆           ┆           ┆           ┆           │\n",
       "│ sgt_clef2 ┆          ┆           ┆           ┆   ┆           ┆           ┆           ┆           │\n",
       "│ 025…      ┆          ┆           ┆           ┆   ┆           ┆           ┆           ┆           │\n",
       "│ /storage/ ┆ 1        ┆ -7.761611 ┆ -7.585001 ┆ … ┆ -7.261105 ┆ -6.488623 ┆ -6.53574  ┆ -6.828948 │\n",
       "│ coda1/p-d ┆          ┆           ┆           ┆   ┆           ┆           ┆           ┆           │\n",
       "│ sgt_clef2 ┆          ┆           ┆           ┆   ┆           ┆           ┆           ┆           │\n",
       "│ 025…      ┆          ┆           ┆           ┆   ┆           ┆           ┆           ┆           │\n",
       "│ /storage/ ┆ 2        ┆ -7.627095 ┆ -7.604443 ┆ … ┆ -6.936593 ┆ -6.443126 ┆ -6.419396 ┆ -7.027858 │\n",
       "│ coda1/p-d ┆          ┆           ┆           ┆   ┆           ┆           ┆           ┆           │\n",
       "│ sgt_clef2 ┆          ┆           ┆           ┆   ┆           ┆           ┆           ┆           │\n",
       "│ 025…      ┆          ┆           ┆           ┆   ┆           ┆           ┆           ┆           │\n",
       "│ /storage/ ┆ 3        ┆ -7.540323 ┆ -7.558751 ┆ … ┆ -7.167755 ┆ -6.686892 ┆ -6.257753 ┆ -7.162601 │\n",
       "│ coda1/p-d ┆          ┆           ┆           ┆   ┆           ┆           ┆           ┆           │\n",
       "│ sgt_clef2 ┆          ┆           ┆           ┆   ┆           ┆           ┆           ┆           │\n",
       "│ 025…      ┆          ┆           ┆           ┆   ┆           ┆           ┆           ┆           │\n",
       "│ /storage/ ┆ 4        ┆ -7.614707 ┆ -7.572232 ┆ … ┆ -7.24971  ┆ -6.392805 ┆ -6.567549 ┆ -6.875815 │\n",
       "│ coda1/p-d ┆          ┆           ┆           ┆   ┆           ┆           ┆           ┆           │\n",
       "│ sgt_clef2 ┆          ┆           ┆           ┆   ┆           ┆           ┆           ┆           │\n",
       "│ 025…      ┆          ┆           ┆           ┆   ┆           ┆           ┆           ┆           │\n",
       "└───────────┴──────────┴───────────┴───────────┴───┴───────────┴───────────┴───────────┴───────────┘"
      ]
     },
     "metadata": {},
     "output_type": "display_data"
    },
    {
     "data": {
      "text/plain": [
       "(116712, 335)"
      ]
     },
     "metadata": {},
     "output_type": "display_data"
    }
   ],
   "source": [
    "import numpy as np\n",
    "import polars as pl\n",
    "\n",
    "root = \"~/scratch/birdclef/2025/infer-soundscape\"\n",
    "model_name = \"HawkEars\"\n",
    "predict_path = f\"{root}/{model_name}/parts/predict\"\n",
    "agg_path = f\"{root}/{model_name}/agg_predictions.parquet\"\n",
    "\n",
    "predict_df = pl.read_parquet(predict_path)\n",
    "agg_df = pl.read_parquet(agg_path)\n",
    "\n",
    "display(predict_df.head(5))\n",
    "display(predict_df.shape)\n",
    "display(agg_df.head(5))\n",
    "display(agg_df.shape)"
   ]
  },
  {
   "cell_type": "code",
   "execution_count": 14,
   "id": "881a4030",
   "metadata": {},
   "outputs": [
    {
     "name": "stdout",
     "output_type": "stream",
     "text": [
      "60.0\n",
      "12\n",
      "True\n"
     ]
    }
   ],
   "source": [
    "file = predict_df.select(\"file\").sample(1).item()\n",
    "predict_df_file = predict_df.filter(pl.col(\"file\") == file)\n",
    "agg_df_file = agg_df.filter(pl.col(\"file\") == file)\n",
    "\n",
    "end_time = predict_df_file.select(\"end_time\").max().item()\n",
    "intervals = agg_df_file.select(\"interval\").max().item() + 1\n",
    "\n",
    "print(end_time)\n",
    "print(intervals)\n",
    "print(np.ceil(end_time / 5) == intervals)"
   ]
  },
  {
   "cell_type": "code",
   "execution_count": null,
   "id": "e61710b2",
   "metadata": {},
   "outputs": [],
   "source": []
  },
  {
   "cell_type": "code",
   "execution_count": 5,
   "id": "6fca7374",
   "metadata": {},
   "outputs": [
    {
     "data": {
      "text/plain": [
       "'/storage/coda1/p-dsgt_clef2025/0/shared/birdclef/raw/birdclef-2025/train_audio/1139490/CSA36385.ogg'"
      ]
     },
     "execution_count": 5,
     "metadata": {},
     "output_type": "execute_result"
    }
   ],
   "source": [
    "row = df.iloc[0]\n",
    "row[\"file\"]"
   ]
  },
  {
   "cell_type": "code",
   "execution_count": null,
   "id": "9e5d3e82",
   "metadata": {},
   "outputs": [],
   "source": [
    "def get_species_names(file_path_list: list) -> list:\n",
    "    species_list = []\n",
    "    for file in file_path_list:\n",
    "        species_name = file.split(\"train_audio/\")[1].split(\"/\")[0]\n",
    "        species_list.append(species_name)\n",
    "\n",
    "    species_list = list(set(species_list))\n",
    "    species_list.sort()\n",
    "    return species_list\n",
    "\n",
    "\n",
    "species_list = get_species_names(df[\"file\"].iloc[:])\n",
    "display(len(species_list))\n",
    "species_list[:5]"
   ]
  },
  {
   "cell_type": "code",
   "execution_count": null,
   "id": "2b5ce592",
   "metadata": {},
   "outputs": [],
   "source": [
    "# create species_name column\n",
    "embed_df = df.copy()\n",
    "embed_df[\"species_name\"] = df[\"file\"].apply(\n",
    "    lambda x: x.split(\"train_audio/\")[1].split(\"/\")[0]\n",
    ")\n",
    "# group by species_name and count the number of files\n",
    "species_count = embed_df.groupby(\"species_name\").size().reset_index(name=\"count\")\n",
    "species_count.sort_values(by=\"count\", ascending=False, inplace=True)\n",
    "species_count.tail(10)"
   ]
  },
  {
   "cell_type": "code",
   "execution_count": null,
   "id": "48b01338",
   "metadata": {},
   "outputs": [],
   "source": [
    "# train/test split requries y label to have at least 2 samples\n",
    "# remove species from ebed_df with less than 2 samples\n",
    "species_count = embed_df[\"species_name\"].value_counts()\n",
    "valid_species = species_count[species_count >= 2].index\n",
    "embed_df = embed_df[embed_df[\"species_name\"].isin(valid_species)].reset_index(drop=True)\n",
    "embed_df.shape, df.shape"
   ]
  },
  {
   "cell_type": "code",
   "execution_count": null,
   "id": "2780ada2",
   "metadata": {},
   "outputs": [],
   "source": [
    "from pathlib import Path\n",
    "\n",
    "raw_root = Path(\"~/p-dsgt_clef2025-0/shared/birdclef/raw/birdclef-2025\").expanduser()\n",
    "! ls {raw_root}\n",
    "soundscape_root = raw_root / \"train_audio\"\n",
    "! ls {soundscape_root} | head\n",
    "soundscapes = sorted(soundscape_root.glob(\"**/*.ogg\"))\n",
    "display(len(soundscapes))"
   ]
  },
  {
   "cell_type": "code",
   "execution_count": null,
   "id": "8df93938",
   "metadata": {},
   "outputs": [],
   "source": [
    "soundscapes = [str(sp) for sp in soundscapes]\n",
    "soundscape_list = get_species_names(soundscapes)\n",
    "display(len(soundscape_list))\n",
    "soundscape_list[:5]"
   ]
  },
  {
   "cell_type": "code",
   "execution_count": null,
   "id": "84cd8a78",
   "metadata": {},
   "outputs": [],
   "source": [
    "for name in soundscape_list:\n",
    "    if name not in species_list:\n",
    "        print(name)"
   ]
  },
  {
   "cell_type": "code",
   "execution_count": null,
   "id": "6825172e",
   "metadata": {},
   "outputs": [],
   "source": []
  }
 ],
 "metadata": {
  "kernelspec": {
   "display_name": ".venv",
   "language": "python",
   "name": "python3"
  },
  "language_info": {
   "codemirror_mode": {
    "name": "ipython",
    "version": 3
   },
   "file_extension": ".py",
   "mimetype": "text/x-python",
   "name": "python",
   "nbconvert_exporter": "python",
   "pygments_lexer": "ipython3",
   "version": "3.9.21"
  }
 },
 "nbformat": 4,
 "nbformat_minor": 5
}
