{
 "cells": [
  {
   "cell_type": "code",
   "execution_count": 1,
   "metadata": {},
   "outputs": [],
   "source": [
    "import torch\n",
    "from torch.utils.data import DataLoader, TensorDataset\n",
    "import time"
   ]
  },
  {
   "cell_type": "code",
   "execution_count": 6,
   "metadata": {},
   "outputs": [],
   "source": [
    "dummy_data = torch.randn(10000, 100)\n",
    "dummy_targets = torch.randn(10000, 1)\n",
    "dataset = TensorDataset(dummy_data, dummy_targets)\n",
    "dataloader = DataLoader(dataset, batch_size=32)\n",
    "\n",
    "model = torch.nn.Linear(100, 1)"
   ]
  },
  {
   "cell_type": "code",
   "execution_count": 7,
   "metadata": {},
   "outputs": [
    {
     "name": "stdout",
     "output_type": "stream",
     "text": [
      "Profile time: 0.4955 seconds\n"
     ]
    }
   ],
   "source": [
    "def profile_model(model, dataloader):\n",
    "    start_time = time.time()\n",
    "    for batch in dataloader:\n",
    "        inputs, _ = batch\n",
    "        outputs = model(inputs)\n",
    "    profile_time = time.time() - start_time\n",
    "    print(f\"Profile time: {profile_time:.4f} seconds\")\n",
    "\n",
    "\n",
    "profile_model(model, dataloader)"
   ]
  }
 ],
 "metadata": {
  "kernelspec": {
   "display_name": "birdclef",
   "language": "python",
   "name": "python3"
  },
  "language_info": {
   "codemirror_mode": {
    "name": "ipython",
    "version": 3
   },
   "file_extension": ".py",
   "mimetype": "text/x-python",
   "name": "python",
   "nbconvert_exporter": "python",
   "pygments_lexer": "ipython3",
   "version": "3.12.8"
  }
 },
 "nbformat": 4,
 "nbformat_minor": 2
}
