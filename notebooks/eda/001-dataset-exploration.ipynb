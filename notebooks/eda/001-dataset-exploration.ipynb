{
 "cells": [
  {
   "cell_type": "code",
   "execution_count": 5,
   "metadata": {},
   "outputs": [
    {
     "name": "stderr",
     "output_type": "stream",
     "text": [
      "25/03/23 13:13:53 WARN SparkSession: Using an existing Spark session; only runtime SQL configurations will take effect.\n"
     ]
    },
    {
     "data": {
      "text/html": [
       "\n",
       "            <div>\n",
       "                <p><b>SparkSession - in-memory</b></p>\n",
       "                \n",
       "        <div>\n",
       "            <p><b>SparkContext</b></p>\n",
       "\n",
       "            <p><a href=\"http://atl1-1-02-012-35-1.pace.gatech.edu:4040\">Spark UI</a></p>\n",
       "\n",
       "            <dl>\n",
       "              <dt>Version</dt>\n",
       "                <dd><code>v3.5.4</code></dd>\n",
       "              <dt>Master</dt>\n",
       "                <dd><code>local[8]</code></dd>\n",
       "              <dt>AppName</dt>\n",
       "                <dd><code>birdclef</code></dd>\n",
       "            </dl>\n",
       "        </div>\n",
       "        \n",
       "            </div>\n",
       "        "
      ],
      "text/plain": [
       "<pyspark.sql.session.SparkSession at 0x7fffd016e170>"
      ]
     },
     "execution_count": 5,
     "metadata": {},
     "output_type": "execute_result"
    }
   ],
   "source": [
    "from birdclef.spark import get_spark\n",
    "from pyspark.sql import functions as F\n",
    "import librosa\n",
    "from pathlib import Path\n",
    "\n",
    "spark = get_spark(cores=8, driver_memory=\"20g\")\n",
    "spark"
   ]
  },
  {
   "cell_type": "code",
   "execution_count": 15,
   "metadata": {},
   "outputs": [
    {
     "name": "stdout",
     "output_type": "stream",
     "text": [
      "\u001b[01;34m/storage/coda1/p-dsgt_clef2025/0/shared/birdclef/raw/birdclef-2025\u001b[0m\n",
      "├── \u001b[01;32mrecording_location.txt\u001b[0m\n",
      "├── \u001b[01;32msample_submission.csv\u001b[0m\n",
      "├── \u001b[01;32mtaxonomy.csv\u001b[0m\n",
      "├── \u001b[01;34mtest_soundscapes\u001b[0m\n",
      "├── \u001b[01;34mtrain_audio\u001b[0m\n",
      "├── \u001b[01;32mtrain.csv\u001b[0m\n",
      "└── \u001b[01;34mtrain_soundscapes\u001b[0m\n",
      "\n",
      "3 directories, 4 files\n"
     ]
    }
   ],
   "source": [
    "root = Path(\"~/shared/birdclef/raw/birdclef-2025\").expanduser().resolve()\n",
    "! tree {root} -L 1"
   ]
  },
  {
   "cell_type": "code",
   "execution_count": 20,
   "metadata": {},
   "outputs": [
    {
     "name": "stdout",
     "output_type": "stream",
     "text": [
      "root\n",
      " |-- primary_label: string (nullable = true)\n",
      " |-- secondary_labels: string (nullable = true)\n",
      " |-- type: string (nullable = true)\n",
      " |-- filename: string (nullable = true)\n",
      " |-- collection: string (nullable = true)\n",
      " |-- rating: string (nullable = true)\n",
      " |-- url: string (nullable = true)\n",
      " |-- latitude: string (nullable = true)\n",
      " |-- longitude: string (nullable = true)\n",
      " |-- scientific_name: string (nullable = true)\n",
      " |-- common_name: string (nullable = true)\n",
      " |-- author: string (nullable = true)\n",
      " |-- license: string (nullable = true)\n",
      "\n",
      "-RECORD 0--------------------------------------------------------------------------------------------\n",
      " primary_label    | 1139490                                                                          \n",
      " secondary_labels | ['']                                                                             \n",
      " type             | ['']                                                                             \n",
      " filename         | 1139490/CSA36385.ogg                                                             \n",
      " collection       | CSA                                                                              \n",
      " rating           | 0                                                                                \n",
      " url              | http://colecciones.humboldt.org.co/rec/sonidos/IAvH-CSA-36385/IAvH-CSA-36385.mp3 \n",
      " latitude         | 7.3206                                                                           \n",
      " longitude        | -73.7128                                                                         \n",
      " scientific_name  | Ragoniella pulchella                                                             \n",
      " common_name      | Ragoniella pulchella                                                             \n",
      " author           | Fabio A. Sarria-S                                                                \n",
      " license          | cc-by-nc-sa 4.0                                                                  \n",
      "only showing top 1 row\n",
      "\n"
     ]
    }
   ],
   "source": [
    "train = spark.read.csv(f\"{root}/train.csv\", header=True)\n",
    "train.printSchema()\n",
    "train.show(1, vertical=True, truncate=100)"
   ]
  },
  {
   "cell_type": "code",
   "execution_count": 25,
   "metadata": {},
   "outputs": [
    {
     "data": {
      "text/plain": [
       "28564"
      ]
     },
     "execution_count": 25,
     "metadata": {},
     "output_type": "execute_result"
    }
   ],
   "source": [
    "train.count()"
   ]
  },
  {
   "cell_type": "code",
   "execution_count": 21,
   "metadata": {},
   "outputs": [
    {
     "name": "stdout",
     "output_type": "stream",
     "text": [
      "root\n",
      " |-- primary_label: string (nullable = true)\n",
      " |-- inat_taxon_id: string (nullable = true)\n",
      " |-- scientific_name: string (nullable = true)\n",
      " |-- common_name: string (nullable = true)\n",
      " |-- class_name: string (nullable = true)\n",
      "\n",
      "-RECORD 0-------------------------------\n",
      " primary_label   | 1139490              \n",
      " inat_taxon_id   | 1139490              \n",
      " scientific_name | Ragoniella pulchella \n",
      " common_name     | Ragoniella pulchella \n",
      " class_name      | Insecta              \n",
      "only showing top 1 row\n",
      "\n"
     ]
    }
   ],
   "source": [
    "taxonomy = spark.read.csv(f\"{root}/taxonomy.csv\", header=True)\n",
    "taxonomy.printSchema()\n",
    "taxonomy.show(1, vertical=True, truncate=100)"
   ]
  },
  {
   "cell_type": "code",
   "execution_count": 23,
   "metadata": {},
   "outputs": [
    {
     "name": "stdout",
     "output_type": "stream",
     "text": [
      "Nature reserve \"El Silencio\" in the municipality of Yondó in the Middle Magdalena Valley of Colombia.\n",
      "\n",
      "Website: https://www.fundacionbiodiversa.org/fundacion2024/information/  \n",
      "\n",
      "Coordinates:\n",
      "\n",
      "Latitude: 6.76\n",
      "Longitude: -74.21"
     ]
    }
   ],
   "source": [
    "! cat {root}/recording_location.txt"
   ]
  },
  {
   "cell_type": "code",
   "execution_count": null,
   "metadata": {},
   "outputs": [
    {
     "name": "stderr",
     "output_type": "stream",
     "text": [
      "/tmp/ipykernel_3854868/3729165388.py:5: FutureWarning: get_duration() keyword argument 'filename' has been renamed to 'path' in version 0.10.0.\n",
      "\tThis alias will be removed in version 1.0.\n"
     ]
    },
    {
     "name": "stdout",
     "output_type": "stream",
     "text": [
      "+-------------+--------------------+--------------------+------------+\n",
      "|primary_label|            filename|                path|    duration|\n",
      "+-------------+--------------------+--------------------+------------+\n",
      "|      1139490|1139490/CSA36385.ogg|/storage/coda1/p-...|   98.853375|\n",
      "|      1139490|1139490/CSA36389.ogg|/storage/coda1/p-...| 96.53771875|\n",
      "|      1192948|1192948/CSA36358.ogg|/storage/coda1/p-...| 116.5998125|\n",
      "|      1192948|1192948/CSA36366.ogg|/storage/coda1/p-...| 105.4463125|\n",
      "|      1192948|1192948/CSA36373.ogg|/storage/coda1/p-...|103.63146875|\n",
      "|      1192948|1192948/CSA36388.ogg|/storage/coda1/p-...| 96.07284375|\n",
      "|      1194042|1194042/CSA18783.ogg|/storage/coda1/p-...|  32.2718125|\n",
      "|      1194042|1194042/CSA18794.ogg|/storage/coda1/p-...|   13.493625|\n",
      "|      1194042|1194042/CSA18802.ogg|/storage/coda1/p-...| 46.04040625|\n",
      "|       126247| 126247/XC941297.ogg|/storage/coda1/p-...| 16.15646875|\n",
      "+-------------+--------------------+--------------------+------------+\n",
      "only showing top 10 rows\n",
      "\n"
     ]
    },
    {
     "name": "stderr",
     "output_type": "stream",
     "text": [
      "                                                                                \r"
     ]
    }
   ],
   "source": [
    "# let's count how long each recording is\n",
    "\n",
    "\n",
    "@F.udf(\"double\")\n",
    "def duration(path):\n",
    "    return librosa.get_duration(filename=path)\n",
    "\n",
    "\n",
    "duration = (\n",
    "    train.select(\"primary_label\", \"filename\")\n",
    "    .withColumn(\"path\", F.concat(F.lit(str(root)), F.lit(\"/train_audio/\"), \"filename\"))\n",
    "    .withColumn(\"duration\", duration(\"path\"))\n",
    ")\n",
    "\n",
    "duration.show(10)\n",
    "\n",
    "# NOTE: we'll actually implement this as a script since it's going to take a while to run"
   ]
  },
  {
   "cell_type": "code",
   "execution_count": null,
   "metadata": {},
   "outputs": [
    {
     "name": "stdout",
     "output_type": "stream",
     "text": [
      "root\n",
      " |-- path: string (nullable = true)\n",
      " |-- duration: double (nullable = true)\n",
      "\n",
      "+--------------------+--------+\n",
      "|                path|duration|\n",
      "+--------------------+--------+\n",
      "|train_soundscapes...|    60.0|\n",
      "|train_soundscapes...|    60.0|\n",
      "|train_soundscapes...|    60.0|\n",
      "|train_soundscapes...|    60.0|\n",
      "+--------------------+--------+\n",
      "only showing top 4 rows\n",
      "\n"
     ]
    }
   ],
   "source": [
    "durations = spark.read.parquet(\n",
    "    f\"{root.parent.parent}/processed/birdclef-2025/durations.parquet\"\n",
    ")\n",
    "durations.printSchema()\n",
    "durations.show(4)"
   ]
  },
  {
   "cell_type": "code",
   "execution_count": 54,
   "metadata": {},
   "outputs": [
    {
     "name": "stdout",
     "output_type": "stream",
     "text": [
      "+-----------------+-----+--------------+\n",
      "|          dataset|count|duration_hours|\n",
      "+-----------------+-----+--------------+\n",
      "|      train_audio|28564|         280.5|\n",
      "|train_soundscapes| 9726|         162.1|\n",
      "+-----------------+-----+--------------+\n",
      "\n"
     ]
    },
    {
     "name": "stderr",
     "output_type": "stream",
     "text": [
      "                                                                                \r"
     ]
    },
    {
     "name": "stdout",
     "output_type": "stream",
     "text": [
      "+-------------+-----+----------------+\n",
      "|primary_label|count|duration_minutes|\n",
      "+-------------+-----+----------------+\n",
      "|       grekis|  990|          496.73|\n",
      "|       compau|  808|          541.55|\n",
      "|       trokin|  787|          414.55|\n",
      "|       roahaw|  709|          467.71|\n",
      "|       banana|  610|          338.42|\n",
      "|       whtdov|  572|          438.79|\n",
      "|      socfly1|  543|          300.76|\n",
      "|      yeofly1|  525|          299.63|\n",
      "|      bobfly1|  514|          279.71|\n",
      "|      wbwwre1|  499|           318.0|\n",
      "+-------------+-----+----------------+\n",
      "only showing top 10 rows\n",
      "\n",
      "+-------------+-----+----------------+\n",
      "|primary_label|count|duration_minutes|\n",
      "+-------------+-----+----------------+\n",
      "|        41778|    2|            3.47|\n",
      "|        66531|    2|            1.21|\n",
      "|        67082|    2|            0.74|\n",
      "|        47067|    2|             1.2|\n",
      "|        66578|    2|            1.24|\n",
      "|      1139490|    2|            3.26|\n",
      "|        42113|    2|            0.38|\n",
      "|        21116|    2|            0.22|\n",
      "|        81930|    2|            0.74|\n",
      "|        66016|    2|            0.45|\n",
      "+-------------+-----+----------------+\n",
      "only showing top 10 rows\n",
      "\n"
     ]
    },
    {
     "name": "stderr",
     "output_type": "stream",
     "text": [
      "                                                                                \r"
     ]
    }
   ],
   "source": [
    "# train or soundscape\n",
    "duration_dataset = durations.withColumn(\n",
    "    \"dataset\", F.udf(lambda p: Path(p).parts[0], \"string\")(\"path\")\n",
    ")\n",
    "duration_dataset.groupby(\"dataset\").agg(\n",
    "    F.count(\"*\").alias(\"count\"),\n",
    "    F.round(F.sum(\"duration\") / 60 / 60, 2).alias(\"duration_hours\"),\n",
    ").show()\n",
    "train_duration = duration_dataset.filter(\n",
    "    duration_dataset.dataset == \"train_audio\"\n",
    ").withColumn(\"primary_label\", F.udf(lambda p: Path(p).parts[1], \"string\")(\"path\"))\n",
    "by_species = (\n",
    "    train_duration.groupBy(\"primary_label\")\n",
    "    .agg(\n",
    "        F.count(\"*\").alias(\"count\"),\n",
    "        F.round(F.sum(\"duration\") / 60, 2).alias(\"duration_minutes\"),\n",
    "    )\n",
    "    .orderBy(\"count\", ascending=False)\n",
    ")\n",
    "by_species.show(10)\n",
    "by_species.orderBy(\"count\", ascending=True).show(10)"
   ]
  },
  {
   "cell_type": "code",
   "execution_count": 51,
   "metadata": {},
   "outputs": [
    {
     "data": {
      "image/png": "[encoded data removed]",
      "text/plain": [
       "<Figure size 800x300 with 2 Axes>"
      ]
     },
     "metadata": {},
     "output_type": "display_data"
    }
   ],
   "source": [
    "from matplotlib import pyplot as plt\n",
    "\n",
    "pdf = by_species.toPandas()\n",
    "# histogram of count and durations, log scale x axis\n",
    "fig, ax = plt.subplots(1, 2, figsize=(8, 3))\n",
    "pdf[\"count\"].hist(bins=20, ax=ax[0])\n",
    "ax[0].set_title(\"Count of recordings by species\")\n",
    "pdf[\"duration_minutes\"].hist(bins=20, ax=ax[1])\n",
    "ax[1].set_title(\"Duration of recordings by species\")\n",
    "plt.tight_layout()\n",
    "plt.show()"
   ]
  },
  {
   "cell_type": "code",
   "execution_count": 55,
   "metadata": {},
   "outputs": [
    {
     "name": "stderr",
     "output_type": "stream",
     "text": [
      "25/03/23 15:00:24 WARN SparkStringUtils: Truncated the string representation of a plan since it was too large. This behavior can be adjusted by setting 'spark.sql.debug.maxToStringFields'.\n",
      "[Stage 97:>                                                         (0 + 1) / 1]\r"
     ]
    },
    {
     "name": "stdout",
     "output_type": "stream",
     "text": [
      "+-------+--------------------+------------------+-----------+-----------------+\n",
      "|summary|                path|          duration|    dataset|    primary_label|\n",
      "+-------+--------------------+------------------+-----------+-----------------+\n",
      "|  count|               28564|             28564|      28564|            28564|\n",
      "|   mean|                NULL|35.352463163860115|       NULL|189219.3100436681|\n",
      "| stddev|                NULL| 50.60564595255298|       NULL|308766.3189211122|\n",
      "|    min|train_audio/11394...|        0.54459375|train_audio|          1139490|\n",
      "|    max|train_audio/ywcpa...|          1774.392|train_audio|           ywcpar|\n",
      "+-------+--------------------+------------------+-----------+-----------------+\n",
      "\n"
     ]
    },
    {
     "name": "stderr",
     "output_type": "stream",
     "text": [
      "                                                                                \r"
     ]
    }
   ],
   "source": [
    "train_duration.describe().show()"
   ]
  },
  {
   "cell_type": "code",
   "execution_count": 62,
   "metadata": {},
   "outputs": [
    {
     "data": {
      "text/plain": [
       "20"
      ]
     },
     "metadata": {},
     "output_type": "display_data"
    },
    {
     "name": "stderr",
     "output_type": "stream",
     "text": [
      "[Stage 125:>                                                        (0 + 1) / 1]\r"
     ]
    },
    {
     "name": "stdout",
     "output_type": "stream",
     "text": [
      "+--------------------+-------------+-----------+-------------+\n",
      "|                path|     duration|    dataset|primary_label|\n",
      "+--------------------+-------------+-----------+-------------+\n",
      "|train_audio/yerca...|     1774.392|train_audio|      yercac1|\n",
      "|train_audio/compa...|   1509.98875|train_audio|       compau|\n",
      "|train_audio/greeg...|     1255.056|train_audio|       greegr|\n",
      "|train_audio/saffi...|     1076.904|train_audio|       saffin|\n",
      "|train_audio/stbwo...|     1020.048|train_audio|      stbwoo2|\n",
      "|train_audio/speow...|1010.36409375|train_audio|      speowl1|\n",
      "|train_audio/colch...|      963.395|train_audio|      colcha1|\n",
      "|train_audio/greki...|      946.128|train_audio|       grekis|\n",
      "|train_audio/greki...|      935.064|train_audio|       grekis|\n",
      "|train_audio/52884...| 896.57509375|train_audio|        52884|\n",
      "|train_audio/bkcdo...|      783.984|train_audio|       bkcdon|\n",
      "|train_audio/yerca...|  782.8636875|train_audio|      yercac1|\n",
      "|train_audio/compa...|    711.11025|train_audio|       compau|\n",
      "|train_audio/bayma...|      663.384|train_audio|       baymac|\n",
      "|train_audio/yebse...|      660.912|train_audio|      yebsee1|\n",
      "|train_audio/52884...|  655.7190625|train_audio|        52884|\n",
      "|train_audio/crcwo...|   650.370625|train_audio|      crcwoo1|\n",
      "|train_audio/brtpa...|      620.688|train_audio|      brtpar1|\n",
      "|train_audio/pirfl...|   619.650625|train_audio|      pirfly1|\n",
      "|train_audio/speow...|      611.112|train_audio|      speowl1|\n",
      "+--------------------+-------------+-----------+-------------+\n",
      "only showing top 20 rows\n",
      "\n"
     ]
    },
    {
     "name": "stderr",
     "output_type": "stream",
     "text": [
      "                                                                                \r"
     ]
    },
    {
     "data": {
      "text/plain": [
       "29.5732"
      ]
     },
     "execution_count": 62,
     "metadata": {},
     "output_type": "execute_result"
    }
   ],
   "source": [
    "display(train_duration.where(\"duration > (60*10)\").count())\n",
    "train_duration.orderBy(\"duration\", ascending=False).show(20)\n",
    "1774.392 / 60"
   ]
  }
 ],
 "metadata": {
  "kernelspec": {
   "display_name": ".venv",
   "language": "python",
   "name": "python3"
  },
  "language_info": {
   "codemirror_mode": {
    "name": "ipython",
    "version": 3
   },
   "file_extension": ".py",
   "mimetype": "text/x-python",
   "name": "python",
   "nbconvert_exporter": "python",
   "pygments_lexer": "ipython3",
   "version": "3.10.10"
  }
 },
 "nbformat": 4,
 "nbformat_minor": 2
}
