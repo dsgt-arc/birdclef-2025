{
 "cells": [
  {
   "cell_type": "markdown",
   "id": "02ccf2e4",
   "metadata": {},
   "source": [
    "# Sample size"
   ]
  },
  {
   "cell_type": "code",
   "execution_count": 1,
   "id": "d2b498fe",
   "metadata": {},
   "outputs": [],
   "source": [
    "%load_ext autoreload\n",
    "%autoreload 2"
   ]
  },
  {
   "cell_type": "code",
   "execution_count": null,
   "id": "0fa6ef95",
   "metadata": {},
   "outputs": [
    {
     "name": "stdout",
     "output_type": "stream",
     "text": [
      "DataFrame shape: (187838, 2)\n",
      "Embedding size: 1280\n"
     ]
    },
    {
     "data": {
      "text/html": [
       "<div>\n",
       "<style scoped>\n",
       "    .dataframe tbody tr th:only-of-type {\n",
       "        vertical-align: middle;\n",
       "    }\n",
       "\n",
       "    .dataframe tbody tr th {\n",
       "        vertical-align: top;\n",
       "    }\n",
       "\n",
       "    .dataframe thead th {\n",
       "        text-align: right;\n",
       "    }\n",
       "</style>\n",
       "<table border=\"1\" class=\"dataframe\">\n",
       "  <thead>\n",
       "    <tr style=\"text-align: right;\">\n",
       "      <th></th>\n",
       "      <th>species_name</th>\n",
       "      <th>embeddings</th>\n",
       "    </tr>\n",
       "  </thead>\n",
       "  <tbody>\n",
       "    <tr>\n",
       "      <th>0</th>\n",
       "      <td>1139490</td>\n",
       "      <td>[0.035192787647247314, 0.312198281288147, -0.1...</td>\n",
       "    </tr>\n",
       "    <tr>\n",
       "      <th>1</th>\n",
       "      <td>1139490</td>\n",
       "      <td>[-0.04997699335217476, -0.03501279279589653, 0...</td>\n",
       "    </tr>\n",
       "    <tr>\n",
       "      <th>2</th>\n",
       "      <td>1139490</td>\n",
       "      <td>[-0.01223329920321703, -0.025818223133683205, ...</td>\n",
       "    </tr>\n",
       "    <tr>\n",
       "      <th>3</th>\n",
       "      <td>1139490</td>\n",
       "      <td>[-0.027199307456612587, -0.029882565140724182,...</td>\n",
       "    </tr>\n",
       "    <tr>\n",
       "      <th>4</th>\n",
       "      <td>1139490</td>\n",
       "      <td>[-0.06566715240478516, -0.08326669782400131, -...</td>\n",
       "    </tr>\n",
       "  </tbody>\n",
       "</table>\n",
       "</div>"
      ],
      "text/plain": [
       "  species_name                                         embeddings\n",
       "0      1139490  [0.035192787647247314, 0.312198281288147, -0.1...\n",
       "1      1139490  [-0.04997699335217476, -0.03501279279589653, 0...\n",
       "2      1139490  [-0.01223329920321703, -0.025818223133683205, ...\n",
       "3      1139490  [-0.027199307456612587, -0.029882565140724182,...\n",
       "4      1139490  [-0.06566715240478516, -0.08326669782400131, -..."
      ]
     },
     "execution_count": 2,
     "metadata": {},
     "output_type": "execute_result"
    }
   ],
   "source": [
    "import pandas as pd\n",
    "\n",
    "scratch_dir = \"~/scratch/birdclef/data/2025\"\n",
    "model_name = \"Perch\"\n",
    "embed_dir = f\"{scratch_dir}/train_audio-infer-soundscape/{model_name}/parts/embed/\"\n",
    "\n",
    "\n",
    "def preprocess_data(input_path: str) -> pd.DataFrame:\n",
    "    df = pd.read_parquet(input_path)\n",
    "    # concatenate all embeddings into a single DataFrame\n",
    "    df[\"species_name\"] = df[\"file\"].apply(\n",
    "        lambda x: x.split(\"train_audio/\")[1].split(\"/\")[0]\n",
    "    )\n",
    "    # train/test split requries y label to have at least 2 samples\n",
    "    # remove species with less than 2 samples\n",
    "    species_count = df[\"species_name\"].value_counts()\n",
    "    valid_species = species_count[species_count >= 2].index\n",
    "    filtered_df = df[df[\"species_name\"].isin(valid_species)].reset_index(drop=True)\n",
    "    # concatenate embeddings\n",
    "    embed_cols = list(map(str, range(1280)))\n",
    "    filtered_df[\"embeddings\"] = filtered_df[embed_cols].values.tolist()\n",
    "    df_embs = filtered_df[[\"species_name\", \"embeddings\"]].copy()\n",
    "    print(f\"DataFrame shape: {df_embs.shape}\")\n",
    "    print(f\"Embedding size: {len(df_embs['embeddings'].iloc[0])}\")\n",
    "    return df_embs\n",
    "\n",
    "\n",
    "df = preprocess_data(embed_dir)\n",
    "df.head(5)"
   ]
  },
  {
   "cell_type": "code",
   "execution_count": 3,
   "id": "2155552f",
   "metadata": {},
   "outputs": [
    {
     "name": "stdout",
     "output_type": "stream",
     "text": [
      "SAMPLE SIZE: 2345\n"
     ]
    },
    {
     "data": {
      "text/plain": [
       "2345"
      ]
     },
     "execution_count": 3,
     "metadata": {},
     "output_type": "execute_result"
    }
   ],
   "source": [
    "import math\n",
    "\n",
    "# SUPPORTED CONFIDENCE LEVELS: 50%, 68%, 90%, 95%, and 99%\n",
    "confidence_level_constant = {\n",
    "    50: 0.67,\n",
    "    68: 0.99,\n",
    "    90: 1.64,\n",
    "    95: 1.96,\n",
    "    99: 2.57,\n",
    "}\n",
    "\n",
    "\n",
    "def sample_size(population_size, confidence_level, confidence_interval):\n",
    "    Z = confidence_level_constant.get(int(confidence_level), 0.0)\n",
    "    p = 0.5\n",
    "    e = confidence_interval / 100.0\n",
    "    N = population_size\n",
    "\n",
    "    if Z == 0.0:\n",
    "        raise ValueError(f\"Unsupported confidence level: {confidence_level}\")\n",
    "\n",
    "    n_0 = ((Z**2) * p * (1 - p)) / (e**2)\n",
    "    n = n_0 / (1 + ((n_0 - 1) / float(N)))\n",
    "    return int(math.ceil(n))\n",
    "\n",
    "\n",
    "def compute_sample_size(\n",
    "    population_size: int,\n",
    "    confidence_level: float = 95.0,\n",
    "    confidence_interval: float = 2.0,\n",
    "):\n",
    "    sample_sz = sample_size(population_size, confidence_level, confidence_interval)\n",
    "    print(f\"SAMPLE SIZE: {sample_sz}\")\n",
    "    return sample_sz\n",
    "\n",
    "\n",
    "compute_sample_size(population_size=100000)"
   ]
  },
  {
   "cell_type": "code",
   "execution_count": 4,
   "id": "d2ce1334",
   "metadata": {},
   "outputs": [
    {
     "name": "stdout",
     "output_type": "stream",
     "text": [
      "SAMPLE SIZE: 2371\n"
     ]
    },
    {
     "data": {
      "text/plain": [
       "2371"
      ]
     },
     "execution_count": 4,
     "metadata": {},
     "output_type": "execute_result"
    }
   ],
   "source": [
    "n_samples = len(df)\n",
    "compute_sample_size(\n",
    "    population_size=n_samples,\n",
    "    confidence_level=95.0,\n",
    "    confidence_interval=2.0,\n",
    ")"
   ]
  },
  {
   "cell_type": "code",
   "execution_count": null,
   "id": "d533de7c",
   "metadata": {},
   "outputs": [],
   "source": []
  },
  {
   "cell_type": "code",
   "execution_count": null,
   "id": "d88c44ff",
   "metadata": {},
   "outputs": [],
   "source": []
  }
 ],
 "metadata": {
  "kernelspec": {
   "display_name": ".venv",
   "language": "python",
   "name": "python3"
  },
  "language_info": {
   "codemirror_mode": {
    "name": "ipython",
    "version": 3
   },
   "file_extension": ".py",
   "mimetype": "text/x-python",
   "name": "python",
   "nbconvert_exporter": "python",
   "pygments_lexer": "ipython3",
   "version": "3.10.10"
  }
 },
 "nbformat": 4,
 "nbformat_minor": 5
}
